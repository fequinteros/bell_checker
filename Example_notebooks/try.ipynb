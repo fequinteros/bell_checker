{
 "cells": [
  {
   "cell_type": "code",
   "execution_count": 1,
   "metadata": {},
   "outputs": [],
   "source": [
    "import qiskit\n",
    "from qiskit import QuantumCircuit, Aer\n",
    "from qiskit.tools.visualization import circuit_drawer\n",
    "from qiskit.tools.monitor import job_monitor, backend_monitor, backend_overview\n",
    "\n",
    "import circuit_maker\n",
    "from circuit_maker import CircuitMaker\n",
    "\n",
    "import numpy as np\n"
   ]
  },
  {
   "cell_type": "code",
   "execution_count": 2,
   "metadata": {},
   "outputs": [
    {
     "name": "stdout",
     "output_type": "stream",
     "text": [
      "1\n"
     ]
    }
   ],
   "source": [
    "############\n",
    "#  Input: matrices observables\n",
    "\n",
    "obs = [ [ np.eye(2), np.array([ [1,1], [1,-1] ])/np.sqrt(2)],\n",
    "         [ np.eye(2), np.array([ [1,1], [1,-1] ])/np.sqrt(2) ]]\n",
    "\n",
    "\n",
    "\n",
    "# opcion de agregar matrices a mano o usar las por default\n",
    "# matr_default = [0,0,0] y marcar con 1 cual se desea usar\n",
    "# [1,0,0] == Pauli X, [0,1,0] == Pauli Y, [0,0,1] == Pauli Z\n",
    "\n",
    "\n",
    "\n",
    "number_of_thetas = 15\n",
    "theta_vec = np.linspace(0,2*np.pi,number_of_thetas)\n",
    "\n",
    "theta_vec = np.array(theta_vec)\n",
    "print(theta_vec.ndim)\n",
    "\n",
    "################################\n",
    "# Parametrizacion de desigualdad\n",
    "\n",
    "Sabxy = [(1,-1,-1,1), (1,-1,-1,1), (-1,1,1,-1), (1,-1,-1,1)]\n",
    "#Sabxy = (1,1,-1,1)\n",
    "S = 2"
   ]
  },
  {
   "cell_type": "code",
   "execution_count": 1,
   "metadata": {},
   "outputs": [
    {
     "ename": "NameError",
     "evalue": "name 'QuantumCircuit' is not defined",
     "output_type": "error",
     "traceback": [
      "\u001b[1;31m---------------------------------------------------------------------------\u001b[0m",
      "\u001b[1;31mNameError\u001b[0m                                 Traceback (most recent call last)",
      "Cell \u001b[1;32mIn [1], line 1\u001b[0m\n\u001b[1;32m----> 1\u001b[0m init_state \u001b[39m=\u001b[39m QuantumCircuit(\u001b[39mlen\u001b[39m(obs), \u001b[39mlen\u001b[39m(obs) )\n\u001b[0;32m      2\u001b[0m init_state\u001b[39m.\u001b[39mh(\u001b[39m0\u001b[39m)\n\u001b[0;32m      3\u001b[0m init_state\u001b[39m.\u001b[39mcx(\u001b[39m0\u001b[39m,\u001b[39m1\u001b[39m)\n",
      "\u001b[1;31mNameError\u001b[0m: name 'QuantumCircuit' is not defined"
     ]
    }
   ],
   "source": [
    "init_state = QuantumCircuit(len(obs), len(obs) )\n",
    "init_state.h(0)\n",
    "init_state.cx(0,1)\n",
    "init_state.draw(output='mpl')"
   ]
  },
  {
   "cell_type": "code",
   "execution_count": 4,
   "metadata": {},
   "outputs": [
    {
     "name": "stdout",
     "output_type": "stream",
     "text": [
      "l\n"
     ]
    }
   ],
   "source": [
    "if type(init_state) == QuantumCircuit:\n",
    "    print('l')\n"
   ]
  },
  {
   "cell_type": "code",
   "execution_count": 9,
   "metadata": {},
   "outputs": [
    {
     "data": {
      "image/png": "[encoded data removed]",
      "text/plain": [
       "<Figure size 956.183x284.278 with 1 Axes>"
      ]
     },
     "execution_count": 9,
     "metadata": {},
     "output_type": "execute_result"
    }
   ],
   "source": [
    "\n",
    "circuits        = CircuitMaker(auto=True)\n",
    "bell_circuits   = circuits.constructor( init_state, obs , theta_vec )\n",
    "bell_circuits[11].draw(output='mpl')\n"
   ]
  },
  {
   "cell_type": "code",
   "execution_count": 7,
   "metadata": {},
   "outputs": [
    {
     "name": "stdout",
     "output_type": "stream",
     "text": [
      "[None]\n"
     ]
    }
   ],
   "source": [
    "#simulator = Aer.get_backend('aer_simulator')\n",
    "#job = simulator.run( bell_circuits )\n",
    "#results = job.result()\n",
    "#counts = results.get_counts()"
   ]
  },
  {
   "cell_type": "code",
   "execution_count": 8,
   "metadata": {},
   "outputs": [],
   "source": [
    "#result = circuits.witness(Sabxy, S, counts=counts)\n",
    "\n",
    "result = circuits.witness(Sabxy, S)"
   ]
  }
 ],
 "metadata": {
  "kernelspec": {
   "display_name": "Python 3 (ipykernel)",
   "language": "python",
   "name": "python3"
  },
  "language_info": {
   "codemirror_mode": {
    "name": "ipython",
    "version": 3
   },
   "file_extension": ".py",
   "mimetype": "text/x-python",
   "name": "python",
   "nbconvert_exporter": "python",
   "pygments_lexer": "ipython3",
   "version": "3.10.6"
  },
  "vscode": {
   "interpreter": {
    "hash": "eeb5c8033e4500fbc319755753383a0d5e37ddae9f5c541424c6abea2220090b"
   }
  }
 },
 "nbformat": 4,
 "nbformat_minor": 2
}

{
 "cells": [
  {
   "cell_type": "code",
   "execution_count": 3,
   "metadata": {},
   "outputs": [],
   "source": [
    "from qiskit import QuantumCircuit, Aer, transpile\n",
    "import numpy as np\n",
    "import itertools as it\n",
    "import time\n",
    "from qiskit.tools.monitor import job_monitor, backend_monitor, backend_overview\n"
   ]
  },
  {
   "cell_type": "code",
   "execution_count": 4,
   "metadata": {},
   "outputs": [
    {
     "data": {
      "text/plain": [
       "'\\nd = 3\\n\\nn = 4\\n\\n\\n\\nfor j in range( d**n ):\\n\\n    print( np.base_repr(j, base=d).zfill(n) )\\n'"
      ]
     },
     "execution_count": 4,
     "metadata": {},
     "output_type": "execute_result"
    }
   ],
   "source": [
    "\"\"\"\n",
    "d = 3\n",
    "\n",
    "n = 4\n",
    "\n",
    "for j in range( d**n ):\n",
    "\n",
    "    print( np.base_repr(j, base=d).zfill(n) )\n",
    "\"\"\""
   ]
  },
  {
   "cell_type": "code",
   "execution_count": 5,
   "metadata": {},
   "outputs": [],
   "source": [
    "def Constructor(init_state, obs, theta_vec=[0]):\n",
    "    #obs        = self.obs\n",
    "    #init_state = self.init_state\n",
    "    larg_bas   = [i for i in range(len(obs[0]))]\n",
    "    indexs_comb     = list(it.product(larg_bas, repeat=len(obs)))\n",
    "    qcs = []\n",
    "\n",
    "    \n",
    "    for theta in theta_vec:\n",
    "        for i in range(len(indexs_comb)):\n",
    "            qc = QuantumCircuit( len(obs), len(obs) )\n",
    "            qc.compose( init_state, qubits=range(len(obs)), inplace=True )\n",
    "            qc.barrier()\n",
    "\n",
    "            if theta != 0:\n",
    "                qc.ry(theta, 0)\n",
    "            \n",
    "            for j in range(len(indexs_comb[i])):\n",
    "                qc.unitary( obs[j][indexs_comb[i][j]], j, label='{}_OBS:{}'.format(j, indexs_comb[i][j]) )\n",
    "                        \n",
    "            qc.barrier()    \n",
    "            qc.measure( range(len(obs)), range(len(obs)) )\n",
    "            qcs.append( qc )\n",
    "  \n",
    "    return qcs, indexs_comb"
   ]
  },
  {
   "cell_type": "code",
   "execution_count": 6,
   "metadata": {},
   "outputs": [],
   "source": [
    "############\n",
    "#  Input: matrices observables\n",
    "\n",
    "obs = [ [ np.eye(2), np.array([ [1,1], [1,-1] ])/np.sqrt(2)],\n",
    "         [ np.eye(2), np.array([ [1,1], [1,-1] ])/np.sqrt(2) ]]\n",
    "\n",
    "\n",
    "#################################\n",
    "# angulo de rotacion de base de medida\n",
    "\n",
    "number_of_thetas = 15\n",
    "theta_vec = np.linspace(0,2*np.pi,number_of_thetas)"
   ]
  },
  {
   "cell_type": "code",
   "execution_count": 7,
   "metadata": {},
   "outputs": [
    {
     "data": {
      "image/png": "[encoded data removed]",
      "text/plain": [
       "<Figure size 287.294x284.278 with 1 Axes>"
      ]
     },
     "execution_count": 7,
     "metadata": {},
     "output_type": "execute_result"
    }
   ],
   "source": [
    "#######################\n",
    "#  Input: Estado de entrada \n",
    "\n",
    "\n",
    "init_state = QuantumCircuit(len(obs), len(obs) )\n",
    "init_state.h(0)\n",
    "init_state.cx(0,1)\n",
    "init_state.draw(output='mpl')"
   ]
  },
  {
   "cell_type": "code",
   "execution_count": 8,
   "metadata": {},
   "outputs": [
    {
     "data": {
      "image/png": "[encoded data removed]",
      "text/plain": [
       "<Figure size 788.961x284.278 with 1 Axes>"
      ]
     },
     "execution_count": 8,
     "metadata": {},
     "output_type": "execute_result"
    }
   ],
   "source": [
    "\n",
    "bell_circuits, indexs_comb = Constructor( init_state, obs ,theta_vec)\n",
    "bell_circuits[3].draw(output='mpl')\n"
   ]
  },
  {
   "cell_type": "code",
   "execution_count": 9,
   "metadata": {},
   "outputs": [],
   "source": [
    "simulator = Aer.get_backend('aer_simulator')\n",
    "job = simulator.run( bell_circuits )\n",
    "results = job.result()\n",
    "counts = results.get_counts()"
   ]
  },
  {
   "cell_type": "code",
   "execution_count": 10,
   "metadata": {},
   "outputs": [
    {
     "name": "stdout",
     "output_type": "stream",
     "text": [
      "[(0, 0), (0, 1), (1, 0), (1, 1)]\n"
     ]
    }
   ],
   "source": [
    "################################\n",
    "# Parametrizacion de desigualdad\n",
    "\n",
    "#Sabxy = [(1,1,-1,1), (1,1,-1,1), (1,1,-1,1), (1,1,-1,1)]\n",
    "Sabxy = [(1,1,-1,1)]\n",
    "S = 2\n",
    "print(indexs_comb)"
   ]
  },
  {
   "cell_type": "code",
   "execution_count": 11,
   "metadata": {},
   "outputs": [],
   "source": [
    "\n",
    "def dict2array(counts, n_qubits ):\n",
    "    p = np.zeros( 2**n_qubits )\n",
    "\n",
    "    for idx in counts :\n",
    "        \n",
    "        idx = idx.replace(' ','')\n",
    "\n",
    "        p[ int(idx[::-1],2) ] = counts[idx]\n",
    "\n",
    "               \n",
    "\n",
    "    return p #.reshape( n_qubits*[2] )\n",
    "\n"
   ]
  },
  {
   "cell_type": "code",
   "execution_count": 12,
   "metadata": {},
   "outputs": [],
   "source": [
    "def Witness( counts, Sabxy, S, indexs_comb ): # agregar opcion de entregar observable o probabilidad\n",
    "    \"\"\"\n",
    "\n",
    "\n",
    "\n",
    "\n",
    "    \"\"\"\n",
    "    Inequality = [[] for k in range(len(indexs_comb))]\n",
    "    result = []\n",
    "    Sabxy = np.array(Sabxy)\n",
    "    # Divide the list of dictionaries in sets of the number of combinations 2**(num de qubits)\n",
    "    \n",
    "    if Sabxy.ndim == 1:    \n",
    "        for i in range(0, len(counts), len(indexs_comb)): \n",
    "            theta_dict = counts[i:i + len(indexs_comb)]\n",
    "            for f in range(len(indexs_comb)):\n",
    "                Inequality[f] = theta_dict[f]\n",
    "            \n",
    "            no_shots = sum(Inequality[-1][y] for y in Inequality[-1])\n",
    "            chsh1 = 0\n",
    "\n",
    "            for j in range(len(Inequality)):\n",
    "                for element in Inequality[j]:\n",
    "                    value  = 0\n",
    "                    parity = (-1)**(int(element[0])+int(element[1])) # (int(element[k]) for k in range(len(ement)))\n",
    "                    chsh1 += parity*Inequality[j][element]*(Sabxy[j])\n",
    "\n",
    "            result.append(chsh1/no_shots)\n",
    "\n",
    "    elif Sabxy.ndim == 2: # sum of probs\n",
    "        for i in range(0, len(counts), len(indexs_comb)):\n",
    "            counts_temp = counts[i:i + len(indexs_comb)]\n",
    "            chsh = 0\n",
    "            for j, count in enumerate(counts_temp):\n",
    "                prob     = dict2array(count, 2 ) # 2 == > Es n_qubits ; numero de qubits\n",
    "                no_shots = np.sum(prob)\n",
    "                \n",
    "                chsh += np.sum(prob*Sabxy[j])/no_shots\n",
    "\n",
    "        result.append(chsh)\n",
    "\n",
    "\n",
    "\n",
    "\n",
    "\n",
    "    for j, k in enumerate(result):\n",
    "        if k > 2:\n",
    "            print(\"The inequality has been broken in the circuit number {} with value {}!\".format(j, k))\n",
    "    \n",
    "    return result, Inequality\n"
   ]
  },
  {
   "cell_type": "code",
   "execution_count": 15,
   "metadata": {},
   "outputs": [
    {
     "ename": "IndexError",
     "evalue": "index 1 is out of bounds for axis 0 with size 1",
     "output_type": "error",
     "traceback": [
      "\u001b[1;31m---------------------------------------------------------------------------\u001b[0m",
      "\u001b[1;31mIndexError\u001b[0m                                Traceback (most recent call last)",
      "Cell \u001b[1;32mIn [15], line 1\u001b[0m\n\u001b[1;32m----> 1\u001b[0m result, vered \u001b[39m=\u001b[39m Witness(counts,Sabxy, S, indexs_comb)\n\u001b[0;32m      2\u001b[0m \u001b[39m##print(vered)\u001b[39;00m\n\u001b[0;32m      3\u001b[0m \u001b[39mprint\u001b[39m(result)\n",
      "Cell \u001b[1;32mIn [12], line 38\u001b[0m, in \u001b[0;36mWitness\u001b[1;34m(counts, Sabxy, S, indexs_comb)\u001b[0m\n\u001b[0;32m     35\u001b[0m             prob     \u001b[39m=\u001b[39m dict2array(count, \u001b[39m2\u001b[39m ) \u001b[39m# 2 == > Es n_qubits ; numero de qubits\u001b[39;00m\n\u001b[0;32m     36\u001b[0m             no_shots \u001b[39m=\u001b[39m np\u001b[39m.\u001b[39msum(prob)\n\u001b[1;32m---> 38\u001b[0m             chsh \u001b[39m+\u001b[39m\u001b[39m=\u001b[39m np\u001b[39m.\u001b[39msum(prob\u001b[39m*\u001b[39mSabxy[j])\u001b[39m/\u001b[39mno_shots\n\u001b[0;32m     40\u001b[0m     result\u001b[39m.\u001b[39mappend(chsh)\n\u001b[0;32m     46\u001b[0m \u001b[39mfor\u001b[39;00m j, k \u001b[39min\u001b[39;00m \u001b[39menumerate\u001b[39m(result):\n",
      "\u001b[1;31mIndexError\u001b[0m: index 1 is out of bounds for axis 0 with size 1"
     ]
    }
   ],
   "source": [
    "result, vered = Witness(counts,Sabxy, S, indexs_comb)\n",
    "##print(vered)\n",
    "print(result)\n",
    "#print(counts)"
   ]
  },
  {
   "cell_type": "code",
   "execution_count": 24,
   "metadata": {},
   "outputs": [
    {
     "name": "stdout",
     "output_type": "stream",
     "text": [
      "['000', '001', '010', '011', '100', '101', '110', '111']\n",
      "[(0, 0, 0), (0, 0, 1), (0, 1, 0), (0, 1, 1), (1, 0, 0), (1, 0, 1), (1, 1, 0), (1, 1, 1)]\n",
      "8\n"
     ]
    }
   ],
   "source": [
    "obs = [ [ np.eye(2), np.array([ [1,1], [1,-1] ])/np.sqrt(2) ],\n",
    "         [ np.eye(2), np.array([ [1,1], [1,-1] ])/np.sqrt(2) ],\n",
    "         [ np.eye(2), np.array([ [1,1], [1,-1] ])/np.sqrt(2) ]]\n",
    "larg_bas   = [i for i in range(len(obs[0]))]\n",
    "indexs_comb     = list(it.product(larg_bas, repeat=len(obs)))\n",
    "\n",
    "\n",
    "obs = np.array(obs)\n",
    "indd2 = obs.shape[1]**obs.shape[0]\n",
    "\n",
    "n_qubits = obs.shape[0]\n",
    "n_obs      = obs.shape[1]\n",
    "\n",
    "obs_conf = []\n",
    "for j in range(  n_obs**n_qubits ):\n",
    "    obs_conf.append( np.base_repr( j, base=n_obs ).zfill( n_qubits ))\n",
    "\n",
    "    \n",
    "print(obs_conf)\n",
    "print(indexs_comb)\n",
    "print(indd2)\n",
    "\n",
    "\n",
    "\n"
   ]
  }
 ],
 "metadata": {
  "kernelspec": {
   "display_name": "Python 3 (ipykernel)",
   "language": "python",
   "name": "python3"
  },
  "language_info": {
   "codemirror_mode": {
    "name": "ipython",
    "version": 3
   },
   "file_extension": ".py",
   "mimetype": "text/x-python",
   "name": "python",
   "nbconvert_exporter": "python",
   "pygments_lexer": "ipython3",
   "version": "3.10.6 | packaged by conda-forge | (main, Aug 22 2022, 20:30:19) [MSC v.1929 64 bit (AMD64)]"
  },
  "vscode": {
   "interpreter": {
    "hash": "eeb5c8033e4500fbc319755753383a0d5e37ddae9f5c541424c6abea2220090b"
   }
  }
 },
 "nbformat": 4,
 "nbformat_minor": 2
}
